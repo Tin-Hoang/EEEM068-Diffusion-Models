{
 "cells": [
  {
   "cell_type": "code",
   "execution_count": null,
   "id": "2f962265",
   "metadata": {},
   "outputs": [],
   "source": [
    "# 1. Imports and Config\n",
    "import torch\n",
    "from torchvision import transforms\n",
    "from datasets import load_dataset\n",
    "from diffusers import DiTModel, DDPMPipeline, DDPMScheduler\n",
    "from accelerate import Accelerator\n",
    "from torch.utils.data import DataLoader\n",
    "from tqdm import tqdm\n",
    "import wandb\n",
    "from piq import FID"
   ]
  },
  {
   "cell_type": "code",
   "execution_count": null,
   "id": "8050c6f8",
   "metadata": {},
   "outputs": [],
   "source": [
    "# 2. Training Configuration\n",
    "class TrainingConfig:\n",
    "    image_size = 256\n",
    "    train_batch_size = 2\n",
    "    learning_rate = 1e-4\n",
    "    num_epochs = 10\n",
    "    output_dir = \"dit_celebahq_model\"\n",
    "    mixed_precision = \"fp16\"  # or \"no\" for float32\n",
    "    wandb_project = \"diffusion-dit-celebahq\"\n",
    "\n",
    "config = TrainingConfig()\n",
    "\n",
    "# 3. Init W&B\n",
    "wandb.init(project=config.wandb_project, config=vars(config))"
   ]
  },
  {
   "cell_type": "code",
   "execution_count": null,
   "id": "3e2845cb",
   "metadata": {},
   "outputs": [],
   "source": [
    "# 4. Load Dataset (CelebA-HQ stored locally or mounted)\n",
    "dataset = load_dataset(\"imagefolder\", data_dir=\"celeba_hq_256\", split=\"train\")\n",
    "\n",
    "# 5. Preprocess Images\n",
    "transform = transforms.Compose([\n",
    "    transforms.Resize((config.image_size, config.image_size)),\n",
    "    transforms.CenterCrop(config.image_size),\n",
    "    transforms.ToTensor(),\n",
    "    transforms.Normalize([0.5], [0.5]),\n",
    "])\n",
    "\n",
    "def transform_fn(examples):\n",
    "    images = [transform(image.convert(\"RGB\")) for image in examples[\"image\"]]\n",
    "    return {\"images\": images}\n",
    "\n",
    "dataset.set_transform(transform_fn)\n",
    "\n",
    "train_dataloader = DataLoader(dataset, batch_size=config.train_batch_size, shuffle=True)"
   ]
  },
  {
   "cell_type": "code",
   "execution_count": null,
   "id": "c43e78eb",
   "metadata": {},
   "outputs": [],
   "source": [
    "# 6. Load Pretrained DiT-S Model\n",
    "model = DiTModel.from_pretrained(\"facebook/DiT-S-256\", subfolder=\"model\")\n",
    "scheduler = DDPMScheduler(num_train_timesteps=1000)\n",
    "pipeline = DDPMPipeline(unet=model, scheduler=scheduler)"
   ]
  }
 ],
 "metadata": {
  "kernelspec": {
   "display_name": "Python 3 (ipykernel)",
   "language": "python",
   "name": "python3"
  },
  "language_info": {
   "codemirror_mode": {
    "name": "ipython",
    "version": 3
   },
   "file_extension": ".py",
   "mimetype": "text/x-python",
   "name": "python",
   "nbconvert_exporter": "python",
   "pygments_lexer": "ipython3",
   "version": "3.9.6"
  }
 },
 "nbformat": 4,
 "nbformat_minor": 5
}
